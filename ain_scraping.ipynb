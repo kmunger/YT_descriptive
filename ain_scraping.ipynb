{
 "cells": [
  {
   "cell_type": "code",
   "execution_count": null,
   "metadata": {
    "collapsed": false
   },
   "outputs": [],
   "source": [
    "import os\n",
    "import pandas as pd\n",
    "from youtube_api import YoutubeDataApi\n",
    "import datetime\n",
    "from tqdm import tqdm\n",
    "from dateutil.relativedelta import *\n",
    "import numpy as np"
   ]
  },
  {
   "cell_type": "code",
   "execution_count": null,
   "metadata": {
    "collapsed": false
   },
   "outputs": [],
   "source": [
    "## hardcode API key\n",
    "YT_KEY = 'X'\n",
    "yt = YoutubeDataApi(YT_KEY)\n"
   ]
  },
  {
   "cell_type": "code",
   "execution_count": null,
   "metadata": {
    "collapsed": true
   },
   "outputs": [],
   "source": [
    "#read in data from \n",
    "os.chdir('C:/Users/kevin/Documents/GitHub/YT_mapping_replication/')\n",
    "\n",
    "df = pd.read_csv('data/AIN_channel_stats.csv')\n"
   ]
  },
  {
   "cell_type": "code",
   "execution_count": null,
   "metadata": {
    "collapsed": true
   },
   "outputs": [],
   "source": [
    "##convert channel ids to upload playlist ids\n",
    "df['playist_id'] = df['id'].str.replace('UC', \"UU\")"
   ]
  },
  {
   "cell_type": "code",
   "execution_count": null,
   "metadata": {
    "collapsed": false
   },
   "outputs": [],
   "source": []
  },
  {
   "cell_type": "code",
   "execution_count": null,
   "metadata": {
    "collapsed": false
   },
   "outputs": [],
   "source": [
    "to_scrape = df['playlist_id_uploads'][50:]\n",
    "to_scrape"
   ]
  },
  {
   "cell_type": "code",
   "execution_count": null,
   "metadata": {
    "collapsed": false
   },
   "outputs": [],
   "source": [
    "##loop through channels\n",
    "results = []\n",
    "\n",
    "for plid in to_scrape:\n",
    "        \n",
    "    _results = yt.get_videos_from_playlist_id(plid)\n",
    "    \n",
    "    results.extend(_results)\n",
    "\n",
    "            \n"
   ]
  },
  {
   "cell_type": "code",
   "execution_count": null,
   "metadata": {
    "collapsed": false
   },
   "outputs": [],
   "source": [
    "####save csv of ain videos --- I hit errors/API limits, had to do this in 3 chunks\n",
    "df_search = pd.DataFrame(results)\n",
    "\n",
    "df_search.to_csv(\"data/ain_videos.csv\")\n"
   ]
  },
  {
   "cell_type": "code",
   "execution_count": null,
   "metadata": {
    "collapsed": false
   },
   "outputs": [],
   "source": [
    "##read in saved video info\n",
    "results = pd.read_csv(\"data/ain_videos.csv\")\n",
    "results_2 = pd.read_csv(\"data/ain_videos_2.csv\")\n",
    "results_3 = pd.read_csv(\"data/ain_videos_3.csv\")\n"
   ]
  },
  {
   "cell_type": "code",
   "execution_count": null,
   "metadata": {
    "collapsed": true
   },
   "outputs": [],
   "source": [
    "results_all = results.append(results_2)\n",
    "results_all = results_all.append(results_3)"
   ]
  },
  {
   "cell_type": "code",
   "execution_count": null,
   "metadata": {
    "collapsed": false
   },
   "outputs": [],
   "source": [
    "##get metadata\n",
    "vids_ain= yt.get_video_metadata(results_all['video_id'])\n",
    "\n",
    "\n"
   ]
  },
  {
   "cell_type": "code",
   "execution_count": null,
   "metadata": {
    "collapsed": false
   },
   "outputs": [],
   "source": [
    "##save metadata csv\n",
    "df_vids = pd.DataFrame(vids_ain)\n",
    "\n",
    "df_vids.to_csv(\"data/vid_meta_ain.csv\")\n"
   ]
  }
 ],
 "metadata": {
  "kernelspec": {
   "display_name": "Python 3",
   "language": "python",
   "name": "python3"
  },
  "language_info": {
   "codemirror_mode": {
    "name": "ipython",
    "version": 3
   },
   "file_extension": ".py",
   "mimetype": "text/x-python",
   "name": "python",
   "nbconvert_exporter": "python",
   "pygments_lexer": "ipython3",
   "version": "3.6.0"
  }
 },
 "nbformat": 4,
 "nbformat_minor": 2
}
